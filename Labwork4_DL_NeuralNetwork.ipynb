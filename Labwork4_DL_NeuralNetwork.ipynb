{
  "nbformat": 4,
  "nbformat_minor": 0,
  "metadata": {
    "colab": {
      "provenance": []
    },
    "kernelspec": {
      "name": "python3",
      "display_name": "Python 3"
    },
    "language_info": {
      "name": "python"
    }
  },
  "cells": [
    {
      "cell_type": "markdown",
      "source": [
        "• Implement (from scratch!) a neural network, using proper\n",
        "object oriented programming concepts\n",
        "• dict, tuple, list . . . are difficult to maintain\n",
        "• Input: a text file\n",
        "• First line: number of layers N\n",
        "• Next N lines: number of neurons for the i\n",
        "th layer\n",
        "• First layer is the input layer, last layer is the output layer\n",
        "• Output: a properly initialized neural network, with 2 options\n",
        "for weights and bias initialization: weight:w , bias : b\n",
        "• Randomly [0..1]\n",
        "• From text file\n",
        "• Supports feedforward"
      ],
      "metadata": {
        "id": "klO_XCi8xCaP"
      }
    },
    {
      "cell_type": "code",
      "source": [
        "import math\n",
        "from google.colab import drive\n",
        "import random\n",
        "import matplotlib.pyplot as plt\n",
        "drive.mount('/content/drive')\n",
        "\n",
        "file_path = '/content/drive/MyDrive/Colab Notebooks/DL Implementation/network_config.txt'"
      ],
      "metadata": {
        "colab": {
          "base_uri": "https://localhost:8080/"
        },
        "id": "kLSvdHFnwUmZ",
        "outputId": "64abf827-0da8-4eb1-9a08-4327376b8214"
      },
      "execution_count": null,
      "outputs": [
        {
          "output_type": "stream",
          "name": "stdout",
          "text": [
            "Drive already mounted at /content/drive; to attempt to forcibly remount, call drive.mount(\"/content/drive\", force_remount=True).\n"
          ]
        }
      ]
    },
    {
      "cell_type": "code",
      "source": [
        "def load_txt(file_path):\n",
        "    with open(file_path, 'r') as f:\n",
        "        lines = f.readlines()\n",
        "    num_layers = int(lines[0])\n",
        "    layer_sizes = [int(line.strip()) for line in lines[1:num_layers + 1]]\n",
        "    return layer_sizes\n",
        "\n",
        "#Example of input txt: 3 2 2 1 (3 layers)\n",
        "# It will returnn an array [2 2 1]"
      ],
      "metadata": {
        "id": "QBbBQcNVvdHR"
      },
      "execution_count": null,
      "outputs": []
    },
    {
      "cell_type": "code",
      "source": [
        "def sigmoid_func(u):\n",
        "  return 1/(1 + math.exp(-u))"
      ],
      "metadata": {
        "id": "OWhKlq2LC730"
      },
      "execution_count": null,
      "outputs": []
    },
    {
      "cell_type": "code",
      "source": [
        "\"\"\"\n",
        "implement neural network oop\n",
        "- Neuron: initiate weight and bias, then apply activation func\n",
        "- Layer: initiate number of neurons in eah layers, and define a forward function toward the next layer\n",
        "- NeuralNetwork: initiate number of layers, and define a feedforward function\n",
        "\"\"\"\n",
        "class Neuron:\n",
        "    def __init__(self, num_inputs):\n",
        "        # Randomly initiate weights and bias between 0 and 1\n",
        "        self.w = [random.random() for _ in range(num_inputs)]\n",
        "        self.b = random.random()\n",
        "        self.output = 0\n",
        "\n",
        "    def node_forward(self, inputs):\n",
        "        # Calculate weighted sum, then apply sigmoid func\n",
        "        w_sum = sum(w * x for w, x in zip(self.w, inputs)) + self.b\n",
        "        self.output = sigmoid_func(w_sum)\n",
        "        return self.output\n",
        "\n",
        "class Layer:\n",
        "    def __init__(self, num_neurons, num_inputs_per_neuron):\n",
        "        # store a list of neurons objects\n",
        "        self.neurons = [Neuron(num_inputs_per_neuron) for _ in range(num_neurons)]\n",
        "        self.layer_outputs = [0] * num_neurons\n",
        "\n",
        "    def forward(self, inputs):\n",
        "        # send input to all neurons in the layer, each neuron calculates output, then group into a list\n",
        "        self.layer_outputs = [neuron.node_forward(inputs) for neuron in self.neurons]\n",
        "        return self.layer_outputs\n",
        "\n",
        "class NeuralNetwork:\n",
        "    def __init__(self, layer_sizes):\n",
        "        # It sotres a list of \"Layer\" objects\n",
        "        self.layers = []\n",
        "\n",
        "        # Create layers based on layer_sizes\n",
        "        for i in range(1, len(layer_sizes)):\n",
        "            # For each layer, the number of inputs per neuron is the number of neurons in the previous layer\n",
        "            layer = Layer(layer_sizes[i], layer_sizes[i-1])\n",
        "            self.layers.append(layer)\n",
        "\n",
        "    def feedforward(self, inputs):\n",
        "        # Set the current values to the inputs\n",
        "        current_outputs = inputs\n",
        "\n",
        "        # Forward propagate through each layer\n",
        "        for layer in self.layers:\n",
        "            current_outputs = layer.forward(current_outputs)\n",
        "\n",
        "        return current_outputs"
      ],
      "metadata": {
        "id": "2jIhYUitDzD4"
      },
      "execution_count": null,
      "outputs": []
    },
    {
      "cell_type": "code",
      "source": [
        "layer_sizes = load_txt(file_path)\n",
        "nn = NeuralNetwork(layer_sizes)\n",
        "\n",
        "inputs = [[0, 0], [0, 1], [1, 0], [1, 1]]\n",
        "\n",
        "for i in inputs:\n",
        "    output = nn.feedforward(i)\n",
        "    print(f\"Input: {i} → Output: {output[0]:.4f}\")"
      ],
      "metadata": {
        "colab": {
          "base_uri": "https://localhost:8080/"
        },
        "id": "U84YQla7vXNJ",
        "outputId": "f491ac5e-46e0-4e11-d54f-250b620dd147"
      },
      "execution_count": null,
      "outputs": [
        {
          "output_type": "stream",
          "name": "stdout",
          "text": [
            "Input: [0, 0] → Output: 0.7844\n",
            "Input: [0, 1] → Output: 0.8009\n",
            "Input: [1, 0] → Output: 0.7950\n",
            "Input: [1, 1] → Output: 0.8098\n"
          ]
        }
      ]
    }
  ]
}