{
  "nbformat": 4,
  "nbformat_minor": 0,
  "metadata": {
    "colab": {
      "provenance": []
    },
    "kernelspec": {
      "name": "python3",
      "display_name": "Python 3"
    },
    "language_info": {
      "name": "python"
    }
  },
  "cells": [
    {
      "cell_type": "code",
      "execution_count": 1,
      "metadata": {
        "colab": {
          "base_uri": "https://localhost:8080/"
        },
        "id": "WEQ-Hca8sTVp",
        "outputId": "11569176-f78f-4c7d-83be-8c7e3fdd18ba"
      },
      "outputs": [
        {
          "output_type": "stream",
          "name": "stdout",
          "text": [
            "Drive already mounted at /content/drive; to attempt to forcibly remount, call drive.mount(\"/content/drive\", force_remount=True).\n"
          ]
        }
      ],
      "source": [
        "import math\n",
        "import csv\n",
        "from google.colab import drive\n",
        "drive.mount('/content/drive')\n",
        "file_path = '/content/drive/MyDrive/Colab Notebooks/DL Implementation/loan.csv'\n",
        "import numpy as np\n"
      ]
    },
    {
      "cell_type": "markdown",
      "source": [
        "This labwork implements logistic regressioion from scratch.\n",
        "first, we need to declare sigmoid function"
      ],
      "metadata": {
        "id": "0VOEqq_zWqaG"
      }
    },
    {
      "cell_type": "code",
      "source": [
        "def sigmoid_func(u):\n",
        "    # u = max(min(u, 100), -100) #fix overflow?\n",
        "    return 1/(1 + math.exp(-u))\n",
        "\n",
        "# def sigmoid_func(u):\n",
        "#     return 1 / (1 + np.exp(-u))\n"
      ],
      "metadata": {
        "id": "sJX0YVNXWo2P"
      },
      "execution_count": 18,
      "outputs": []
    },
    {
      "cell_type": "markdown",
      "source": [
        "Liek the previos labwork, let's read some data from a csv file"
      ],
      "metadata": {
        "id": "Tlgaz4GfewrJ"
      }
    },
    {
      "cell_type": "code",
      "source": [
        "def load_data_from_csv(file_path):\n",
        "    x1, x2, y = [], [], []\n",
        "    with open(file_path, 'r') as f:\n",
        "        reader = csv.reader(f)\n",
        "        next(reader)\n",
        "        for row in reader:\n",
        "            x1.append(float(row[0]))\n",
        "            x2.append(float(row[1]))\n",
        "            y.append(int(row[2]))\n",
        "    return x1, x2, y"
      ],
      "metadata": {
        "id": "5ePwK_cSewQB"
      },
      "execution_count": 3,
      "outputs": []
    },
    {
      "cell_type": "markdown",
      "source": [
        "We need to compute 3 partial derivative for each w0, w1 and w2, and for each iteration, calculate"
      ],
      "metadata": {
        "id": "jXQqk0DRgmY3"
      }
    },
    {
      "cell_type": "code",
      "source": [
        "def logistic_regression(x1, x2, y, r: float, iters: int):\n",
        "  N = len(y)\n",
        "  w0 = 0\n",
        "  w1 = 1\n",
        "  w2 = 2\n",
        "  for i in range(iters):\n",
        "    total_loss = 0\n",
        "    for j in range(N):\n",
        "      y_hat = w1*x1[j] + w2*x2[j]+ w0\n",
        "      sig_y_hat = sigmoid_func(y_hat)\n",
        "      neg_sig_y_hat = sigmoid_func(-y_hat)\n",
        "\n",
        "      dw0 = 1 - y[j] - neg_sig_y_hat\n",
        "      dw1 = -y[j] * x1[j] + x1[j] * (1 - neg_sig_y_hat)\n",
        "      dw2 = -y[j] * x2[j] + x2[j] * (1 - neg_sig_y_hat)\n",
        "\n",
        "      loss_j = -y[j]*y_hat + math.log(1 + math.exp(y_hat))\n",
        "      total_loss += loss_j\n",
        "\n",
        "      w0 -= r * dw0\n",
        "      w1 -= r * dw1\n",
        "      w2 -= r * dw2\n",
        "\n",
        "      avg_loss = total_loss / N\n",
        "\n",
        "    print(f\"{i} {w0} {w1} {w2} {avg_loss}\")\n",
        "\n",
        "  return w0, w1,w2"
      ],
      "metadata": {
        "id": "Bt81gAqcaPmW"
      },
      "execution_count": 34,
      "outputs": []
    },
    {
      "cell_type": "code",
      "source": [
        "x1, x2, y = load_data_from_csv(file_path)\n",
        "\n",
        "for lr in [0.01,0.001,0.0001]:\n",
        "  w0, w1,w2 = logistic_regression(x1,x2, y, lr, iters=10)\n",
        "  print(f\"LR model {lr}: y = {w1} * x1  {w2} * x2  {w0}\")"
      ],
      "metadata": {
        "id": "lU8-SPG26RYD",
        "colab": {
          "base_uri": "https://localhost:8080/"
        },
        "outputId": "cfd65859-6a33-44f1-d94b-639a4fff3329"
      },
      "execution_count": 35,
      "outputs": [
        {
          "output_type": "stream",
          "name": "stdout",
          "text": [
            "0 -0.09999709375727837 0.9490032914770201 1.3500140455981324 6.08550319634549\n",
            "1 -0.19986892489854222 0.8980928169602908 0.7008586678584132 3.7972385833247864\n",
            "2 -0.2883223227850827 0.8529321205251118 0.14248302740838822 1.6248122121683046\n",
            "3 -0.3190393169768577 0.8474647477392105 -0.0034897945083725776 0.6292819393462895\n",
            "4 -0.33011294270868613 0.861475893069407 -0.02406873088469909 0.5543226814955071\n",
            "5 -0.3384963451532187 0.8780337867027571 -0.0275082932000811 0.5471363656167078\n",
            "6 -0.34655915905013074 0.894510965717314 -0.02858336961335553 0.5443038268090805\n",
            "7 -0.35461891859862843 0.910568224319937 -0.029288108865115875 0.5420631424403585\n",
            "8 -0.36271654089592537 0.926177675276606 -0.029896718260016678 0.5399832790074733\n",
            "9 -0.370855439604946 0.9413526024375689 -0.030448969524067747 0.538000638643999\n",
            "LR model 0.01: y = 0.9413526024375689 * x1  -0.030448969524067747 * x2  -0.370855439604946\n",
            "0 -0.009999773365485923 0.9949002987871383 1.9350009788574427 7.008033805266741\n",
            "1 -0.019999467990859488 0.9898006992688345 1.870002305264082 6.77904208248761\n",
            "2 -0.029999055854427997 0.9847012365496587 1.8050041064070197 6.550053487664689\n",
            "3 -0.03999849864947306 0.979601958066774 1.7400065578433972 6.321069166066519\n",
            "4 -0.04999774385830089 0.9745029280184337 1.6750099027962515 6.092090698540734\n",
            "5 -0.05999671925327953 0.9694042334268227 1.6100144795996465 5.863120275144478\n",
            "6 -0.06999532515742254 0.9643059924593181 1.5450207609631732 5.6341609419529854\n",
            "7 -0.07999342349527934 0.9592083658807609 1.4800294104938678 5.405216953872231\n",
            "8 -0.08999082221746116 0.9541115728618231 1.415041364590203 5.176294281990665\n",
            "9 -0.09998725301448623 0.9490159128710928 1.3500579519023392 4.947401347706677\n",
            "LR model 0.001: y = 0.9490159128710928 * x1  1.3500579519023392 * x2  -0.09998725301448623\n",
            "0 -0.000999977607628803 0.9994900296978857 1.9935000963523444 7.10028765412959\n",
            "1 -0.001999954541393512 0.9989800602760525 1.987000195654359 7.077388315088506\n",
            "2 -0.0029999307806872324 0.9984700917608511 1.980500297998164 7.054488997867933\n",
            "3 -0.0039999063042603965 0.9979601241794313 1.974000403478828 7.031589703148357\n",
            "4 -0.004999881090200235 0.9974501575597646 1.967500512194463 7.008690431631998\n",
            "5 -0.005999855115909577 0.9969401919306714 1.9610006242463283 6.9857911840435305\n",
            "6 -0.006999828358084949 0.996430227321846 1.9545007397389311 6.96289196113082\n",
            "7 -0.007999800792693952 0.9959202637638823 1.9480008587801345 6.93999276366567\n",
            "8 -0.008999772394951894 0.995410301288305 1.9415009814812703 6.917093592444646\n",
            "9 -0.009999743139297657 0.9949003399275937 1.9350011079572522 6.894194448289859\n",
            "LR model 0.0001: y = 0.9949003399275937 * x1  1.9350011079572522 * x2  -0.009999743139297657\n"
          ]
        }
      ]
    }
  ]
}